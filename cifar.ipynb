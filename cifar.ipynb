{
 "cells": [
  {
   "cell_type": "code",
   "execution_count": 1,
   "metadata": {},
   "outputs": [
    {
     "name": "stderr",
     "output_type": "stream",
     "text": [
      "Using TensorFlow backend.\n"
     ]
    }
   ],
   "source": [
    "import numpy as np\n",
    "from keras.models import Model\n",
    "from keras.layers.convolutional import Convolution2D\n",
    "from keras.layers.core import Dense, Reshape\n",
    "from keras.layers import Input\n",
    "from keras.losses import mean_squared_error\n",
    "from keras.optimizers import Adam\n",
    "\n",
    "from utils import LossHistory, plotHistory, visualization\n",
    "from keras_capsnet.layer.capsnet import PrimaryCaps, Caps, ClassesCaps, Mask\n",
    "from keras_capsnet.losses import margin\n",
    "from keras_capsnet.activations import squash\n",
    "from datasets.cifar import dataGenerator"
   ]
  },
  {
   "cell_type": "markdown",
   "metadata": {},
   "source": [
    "# Parameters"
   ]
  },
  {
   "cell_type": "code",
   "execution_count": 2,
   "metadata": {},
   "outputs": [],
   "source": [
    "num_class = 10\n",
    "input_shape = (32, 32, 3)\n",
    "\n",
    "batch_size = 32\n",
    "\n",
    "data_augmentation = {\n",
    "    'width_shift_range': 2,\n",
    "    'height_shift_range': 2\n",
    "}"
   ]
  },
  {
   "cell_type": "markdown",
   "metadata": {},
   "source": [
    "# Dataset"
   ]
  },
  {
   "cell_type": "code",
   "execution_count": 3,
   "metadata": {},
   "outputs": [],
   "source": [
    "trainGenerator = dataGenerator('train', batch_size=batch_size, **data_augmentation)\n",
    "testGenerator = dataGenerator('test', batch_size=batch_size)"
   ]
  },
  {
   "cell_type": "markdown",
   "metadata": {},
   "source": [
    "# Model"
   ]
  },
  {
   "cell_type": "code",
   "execution_count": 4,
   "metadata": {},
   "outputs": [],
   "source": [
    "x = Input(shape=input_shape)\n",
    "y = Input(shape=(num_class,))\n",
    "\n",
    "encoder = Convolution2D(filters=256, kernel_size=(9, 9), activation='relu') (x)\n",
    "encoder = PrimaryCaps(capsules=32, capsule_dim=8, kernel_size=(9, 9), strides=2, activation='relu', activation_caps=squash) (encoder)\n",
    "encoder = Caps(capsules=10, capsule_dim=16, routings=3, activation_caps=squash) (encoder)\n",
    "\n",
    "output = ClassesCaps(name='capsule') (encoder)\n",
    "\n",
    "decoder = Mask() (encoder, y_true=y)\n",
    "decoder = Dense(512, activation='relu') (decoder)\n",
    "decoder = Dense(1024, activation='relu') (decoder)\n",
    "decoder = Dense(3072, activation='sigmoid') (decoder)\n",
    "decoder = Reshape((input_shape), name='reconstruction') (decoder)\n",
    "\n",
    "model_training = Model(inputs=[x, y], outputs=[output, decoder])\n",
    "model = Model(inputs=x, outputs=output)"
   ]
  },
  {
   "cell_type": "code",
   "execution_count": 5,
   "metadata": {},
   "outputs": [
    {
     "name": "stdout",
     "output_type": "stream",
     "text": [
      "_________________________________________________________________\n",
      "Layer (type)                 Output Shape              Param #   \n",
      "=================================================================\n",
      "input_1 (InputLayer)         (None, 32, 32, 3)         0         \n",
      "_________________________________________________________________\n",
      "conv2d_1 (Conv2D)            (None, 24, 24, 256)       62464     \n",
      "_________________________________________________________________\n",
      "primary_caps_1 (PrimaryCaps) (None, 2048, 8)           5308672   \n",
      "_________________________________________________________________\n",
      "caps_1 (Caps)                (None, 10, 16)            2621440   \n",
      "_________________________________________________________________\n",
      "capsule (ClassesCaps)        (None, 10)                0         \n",
      "=================================================================\n",
      "Total params: 7,992,576\n",
      "Trainable params: 7,992,576\n",
      "Non-trainable params: 0\n",
      "_________________________________________________________________\n"
     ]
    }
   ],
   "source": [
    "model.summary()"
   ]
  },
  {
   "cell_type": "markdown",
   "metadata": {},
   "source": [
    "# Training"
   ]
  },
  {
   "cell_type": "code",
   "execution_count": 6,
   "metadata": {},
   "outputs": [],
   "source": [
    "model_training.compile(loss=[margin(), mean_squared_error],\n",
    "                        loss_weights=[1, 0.0005],\n",
    "                        optimizer=Adam(lr=1e-3),\n",
    "                        metrics={'capsule': 'accuracy'})"
   ]
  },
  {
   "cell_type": "code",
   "execution_count": null,
   "metadata": {},
   "outputs": [],
   "source": [
    "history = LossHistory(metrics=('loss', 'capsule_loss', 'reconstruction_loss', 'capsule_acc'))\n",
    "hist = model_training.fit_generator(trainGenerator,\n",
    "                                    steps_per_epoch=50000 // batch_size,\n",
    "                                    epochs=10,\n",
    "                                    validation_data=testGenerator,\n",
    "                                    validation_steps=10000 // batch_size,\n",
    "                                    verbose=2,\n",
    "                                    callbacks=[history])"
   ]
  },
  {
   "cell_type": "code",
   "execution_count": null,
   "metadata": {},
   "outputs": [],
   "source": [
    "plotHistory(history.metrics)"
   ]
  },
  {
   "cell_type": "markdown",
   "metadata": {},
   "source": [
    "# Visualization"
   ]
  },
  {
   "cell_type": "code",
   "execution_count": null,
   "metadata": {},
   "outputs": [],
   "source": [
    "n_image = 5\n",
    "\n",
    "# Select data\n",
    "images, labels = next(dataGenerator('test', batch_size=n_image, reshape=False))\n",
    "\n",
    "# Run inference\n",
    "classes, reconstructions = model_training.predict([images, labels])\n",
    "\n",
    "# Post-process data\n",
    "labels = np.argmax(labels, axis=1)\n",
    "predictions = np.argmax(classes, axis=1)\n",
    "images = images.reshape(-1, 28, 28)\n",
    "reconstructions = reconstructions.reshape(-1, 28, 28)\n",
    "\n",
    "visualization((images, labels), (reconstructions, predictions))"
   ]
  }
 ],
 "metadata": {
  "kernelspec": {
   "display_name": "Python 3",
   "language": "python",
   "name": "python3"
  },
  "language_info": {
   "codemirror_mode": {
    "name": "ipython",
    "version": 3
   },
   "file_extension": ".py",
   "mimetype": "text/x-python",
   "name": "python",
   "nbconvert_exporter": "python",
   "pygments_lexer": "ipython3",
   "version": "3.6.7"
  }
 },
 "nbformat": 4,
 "nbformat_minor": 2
}
