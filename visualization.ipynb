{
 "cells": [
  {
   "cell_type": "code",
   "execution_count": 1,
   "metadata": {},
   "outputs": [
    {
     "name": "stderr",
     "output_type": "stream",
     "text": [
      "Using TensorFlow backend.\n"
     ]
    }
   ],
   "source": [
    "import numpy as np\n",
    "from keras.models import Model\n",
    "from keras.layers.convolutional import Convolution2D\n",
    "from keras.layers.core import Dense, Reshape, Activation\n",
    "from keras.layers import Input\n",
    "from keras.losses import mean_squared_error\n",
    "from keras.optimizers import Adam\n",
    "\n",
    "from utils import LossHistory, plotHistory, visualization\n",
    "from keras_capsnet.layer.capsnet import PrimaryCaps, Caps, ClassesCaps, Mask\n",
    "from keras_capsnet.losses import margin\n",
    "from keras_capsnet.activations import squash\n",
    "from datasets.mnist import dataGenerator"
   ]
  },
  {
   "cell_type": "markdown",
   "metadata": {},
   "source": [
    "# Parameters"
   ]
  },
  {
   "cell_type": "code",
   "execution_count": 2,
   "metadata": {},
   "outputs": [],
   "source": [
    "num_class = 10\n",
    "dim_class = 16\n",
    "input_shape = (28, 28, 1)\n",
    "\n",
    "batch_size = 32\n",
    "\n",
    "data_augmentation = {\n",
    "    'width_shift_range': 2,\n",
    "    'height_shift_range': 2\n",
    "}"
   ]
  },
  {
   "cell_type": "markdown",
   "metadata": {},
   "source": [
    "# Dataset"
   ]
  },
  {
   "cell_type": "code",
   "execution_count": 3,
   "metadata": {},
   "outputs": [],
   "source": [
    "trainGenerator = dataGenerator('train', batch_size=batch_size, **data_augmentation)\n",
    "testGenerator = dataGenerator('test', batch_size=batch_size)"
   ]
  },
  {
   "cell_type": "markdown",
   "metadata": {},
   "source": [
    "# Model"
   ]
  },
  {
   "cell_type": "markdown",
   "metadata": {},
   "source": [
    "## Reconstruction"
   ]
  },
  {
   "cell_type": "code",
   "execution_count": 4,
   "metadata": {},
   "outputs": [],
   "source": [
    "reconstruction_input = Input(shape=(num_class * dim_class,))\n",
    "\n",
    "reconstruction_layer = Dense(512, activation='relu') (reconstruction_input)\n",
    "reconstruction_layer = Dense(1024, activation='relu') (reconstruction_layer)\n",
    "reconstruction_layer = Dense(784, activation='sigmoid') (reconstruction_layer)\n",
    "reconstruction_layer = Reshape((input_shape), name='reconstruction') (reconstruction_layer)\n",
    "\n",
    "model_reconstruction = Model(inputs=reconstruction_input, outputs=reconstruction_layer)"
   ]
  },
  {
   "cell_type": "markdown",
   "metadata": {},
   "source": [
    "## Capsule"
   ]
  },
  {
   "cell_type": "code",
   "execution_count": 5,
   "metadata": {},
   "outputs": [],
   "source": [
    "x = Input(shape=input_shape)\n",
    "y = Input(shape=(num_class,))\n",
    "\n",
    "encoder = Convolution2D(filters=256, kernel_size=(9, 9), activation='relu') (x)\n",
    "encoder = PrimaryCaps(capsules=32, capsule_dim=8, kernel_size=(9, 9), strides=2, activation='relu', activation_caps=squash) (encoder)\n",
    "encoder = Caps(capsules=num_class, capsule_dim=dim_class, routings=3, activation_caps=squash) (encoder)\n",
    "\n",
    "model = Model(inputs=x, outputs=encoder)"
   ]
  },
  {
   "cell_type": "markdown",
   "metadata": {},
   "source": [
    "## Training model"
   ]
  },
  {
   "cell_type": "code",
   "execution_count": 6,
   "metadata": {},
   "outputs": [],
   "source": [
    "output = ClassesCaps() (encoder)\n",
    "output = Activation('softmax', name='capsule') (output)\n",
    "\n",
    "decoder = Mask() (encoder, y_true=y)\n",
    "decoder = model_reconstruction(decoder)\n",
    "\n",
    "model_training = Model(inputs=[x, y], outputs=[output, decoder])"
   ]
  },
  {
   "cell_type": "code",
   "execution_count": 7,
   "metadata": {},
   "outputs": [
    {
     "name": "stdout",
     "output_type": "stream",
     "text": [
      "_________________________________________________________________\n",
      "Layer (type)                 Output Shape              Param #   \n",
      "=================================================================\n",
      "input_2 (InputLayer)         (None, 28, 28, 1)         0         \n",
      "_________________________________________________________________\n",
      "conv2d_1 (Conv2D)            (None, 20, 20, 256)       20992     \n",
      "_________________________________________________________________\n",
      "primary_caps_1 (PrimaryCaps) (None, 1152, 8)           5308672   \n",
      "_________________________________________________________________\n",
      "caps_1 (Caps)                (None, 10, 16)            1474560   \n",
      "=================================================================\n",
      "Total params: 6,804,224\n",
      "Trainable params: 6,804,224\n",
      "Non-trainable params: 0\n",
      "_________________________________________________________________\n"
     ]
    }
   ],
   "source": [
    "model.summary()"
   ]
  },
  {
   "cell_type": "markdown",
   "metadata": {},
   "source": [
    "# Training"
   ]
  },
  {
   "cell_type": "code",
   "execution_count": 16,
   "metadata": {},
   "outputs": [],
   "source": [
    "model_training.compile(loss=['mse', mean_squared_error],\n",
    "                        loss_weights=[1, 0.01],\n",
    "                        optimizer=Adam(lr=3e-4),\n",
    "                        metrics={'capsule': 'accuracy'})"
   ]
  },
  {
   "cell_type": "code",
   "execution_count": 17,
   "metadata": {},
   "outputs": [
    {
     "name": "stdout",
     "output_type": "stream",
     "text": [
      "Epoch 1/1\n",
      " - 398s - loss: 0.0679 - capsule_loss: 0.0673 - model_1_loss: 0.0596 - capsule_acc: 0.9764 - val_loss: 0.0671 - val_capsule_loss: 0.0666 - val_model_1_loss: 0.0537 - val_capsule_acc: 0.9853\n"
     ]
    }
   ],
   "source": [
    "history = LossHistory(metrics=('loss', 'capsule_loss', 'reconstruction_loss', 'capsule_acc'))\n",
    "hist = model_training.fit_generator(trainGenerator,\n",
    "                                    steps_per_epoch=60000 // batch_size,\n",
    "                                    epochs=1,\n",
    "                                    validation_data=testGenerator,\n",
    "                                    validation_steps=10000 // batch_size,\n",
    "                                    verbose=2,\n",
    "                                    callbacks=[history])"
   ]
  },
  {
   "cell_type": "code",
   "execution_count": 10,
   "metadata": {},
   "outputs": [],
   "source": [
    "#plotHistory(history.metrics)"
   ]
  },
  {
   "cell_type": "markdown",
   "metadata": {},
   "source": [
    "# Visualization"
   ]
  },
  {
   "cell_type": "code",
   "execution_count": 18,
   "metadata": {},
   "outputs": [
    {
     "data": {
      "image/png": "[encoded data removed]",
      "text/plain": [
       "<Figure size 1440x720 with 10 Axes>"
      ]
     },
     "metadata": {},
     "output_type": "display_data"
    }
   ],
   "source": [
    "n_image = 5\n",
    "\n",
    "# Select data\n",
    "images, labels = next(dataGenerator('test', batch_size=n_image, reshape=False))\n",
    "\n",
    "# Run inference\n",
    "classes, reconstructions = model_training.predict([images, labels])\n",
    "\n",
    "# Post-process data\n",
    "labels = np.argmax(labels, axis=1)\n",
    "predictions = np.argmax(classes, axis=1)\n",
    "images = images.reshape(-1, 28, 28)\n",
    "reconstructions = reconstructions.reshape(-1, 28, 28)\n",
    "\n",
    "visualization((images, labels), (reconstructions, predictions))"
   ]
  },
  {
   "cell_type": "code",
   "execution_count": 22,
   "metadata": {},
   "outputs": [],
   "source": [
    "model_training.save_weights('model_train.h5')"
   ]
  },
  {
   "cell_type": "markdown",
   "metadata": {},
   "source": [
    "# Bla"
   ]
  },
  {
   "cell_type": "code",
   "execution_count": 12,
   "metadata": {},
   "outputs": [],
   "source": [
    "from matplotlib import pyplot as plt"
   ]
  },
  {
   "cell_type": "code",
   "execution_count": 23,
   "metadata": {},
   "outputs": [],
   "source": [
    "# Select image\n",
    "images, labels = next(dataGenerator('test', batch_size=1, reshape=False))\n",
    "\n",
    "# Run inference\n",
    "features = model.predict(images)"
   ]
  },
  {
   "cell_type": "markdown",
   "metadata": {},
   "source": [
    "*Modify features*"
   ]
  },
  {
   "cell_type": "code",
   "execution_count": 91,
   "metadata": {},
   "outputs": [],
   "source": [
    "features[0, 1] = [ 0.00051886,  1.50057969,  0.00043212,  0.0006002 ,  0.0004508 ,\n",
    "       -0.00056749, -0.0005516 ,  0.00052007,  0.00046944,  0.00062095,\n",
    "        0.00051013,  0.0005336 , -0.00052906, -0.00032854, -0.00045141,\n",
    "        0.00049433]"
   ]
  },
  {
   "cell_type": "code",
   "execution_count": 92,
   "metadata": {},
   "outputs": [
    {
     "data": {
      "image/png": "[encoded data removed]",
      "text/plain": [
       "<Figure size 432x288 with 1 Axes>"
      ]
     },
     "metadata": {},
     "output_type": "display_data"
    }
   ],
   "source": [
    "generated_image = model_reconstruction.predict(np.reshape(features, (1, -1)))[0]\n",
    "_ = plt.imshow(generated_image.reshape(28, 28), cmap='gray')"
   ]
  },
  {
   "cell_type": "code",
   "execution_count": 40,
   "metadata": {},
   "outputs": [
    {
     "data": {
      "image/png": "[encoded data removed]",
      "text/plain": [
       "<Figure size 432x288 with 1 Axes>"
      ]
     },
     "metadata": {},
     "output_type": "display_data"
    }
   ],
   "source": [
    "_ = plt.imshow(generated_image.reshape(28, 28), cmap='gray')"
   ]
  },
  {
   "cell_type": "code",
   "execution_count": null,
   "metadata": {},
   "outputs": [],
   "source": []
  }
 ],
 "metadata": {
  "kernelspec": {
   "display_name": "conda_tensorflow_p36",
   "language": "python",
   "name": "conda_tensorflow_p36"
  },
  "language_info": {
   "codemirror_mode": {
    "name": "ipython",
    "version": 3
   },
   "file_extension": ".py",
   "mimetype": "text/x-python",
   "name": "python",
   "nbconvert_exporter": "python",
   "pygments_lexer": "ipython3",
   "version": "3.6.5"
  }
 },
 "nbformat": 4,
 "nbformat_minor": 2
}
