{
 "cells": [
  {
   "cell_type": "code",
   "execution_count": 1,
   "metadata": {},
   "outputs": [
    {
     "name": "stderr",
     "output_type": "stream",
     "text": [
      "Using TensorFlow backend.\n"
     ]
    }
   ],
   "source": [
    "import numpy as np\n",
    "import seaborn as sns\n",
    "from keras.models import Model, Sequential\n",
    "from keras.layers.convolutional import Convolution2D, MaxPooling2D, AveragePooling2D\n",
    "from keras.layers.core import Dense, Reshape, Dropout, Activation\n",
    "from keras.layers import Input, BatchNormalization, GlobalAveragePooling2D\n",
    "from keras.losses import mean_squared_error, categorical_crossentropy\n",
    "from keras.optimizers import Adam\n",
    "from keras.utils import plot_model, multi_gpu_model\n",
    "\n",
    "from utils import LossHistory, plotHistory, visualization_train, visualization_data, rotation_accuracy\n",
    "from keras_capsnet.layer.capsnet import PrimaryCaps, Caps, CapsCNN, ClassesCaps, Mask\n",
    "from keras_capsnet.losses import margin\n",
    "from keras_capsnet.activations import squash\n",
    "from datasets.mnist import dataGenerator"
   ]
  },
  {
   "cell_type": "code",
   "execution_count": 2,
   "metadata": {},
   "outputs": [],
   "source": [
    "# Plotting for dark theme\n",
    "sns.set(context='paper', style='darkgrid', rc={'figure.facecolor':'white'}, font_scale=1.2)"
   ]
  },
  {
   "cell_type": "markdown",
   "metadata": {},
   "source": [
    "# Parameters"
   ]
  },
  {
   "cell_type": "code",
   "execution_count": 3,
   "metadata": {},
   "outputs": [],
   "source": [
    "num_class = 10\n",
    "input_shape = (28, 28, 1)\n",
    "m_train = 60000\n",
    "m_test = 10000\n",
    "\n",
    "batch_size = 16\n",
    "\n",
    "data_augmentation = {\n",
    "    'width_shift_range': 2,\n",
    "    'height_shift_range': 2\n",
    "}\n",
    "\n",
    "test_augmentation = {\n",
    "    'width_shift_range': 10,\n",
    "    'height_shift_range': 10\n",
    "}"
   ]
  },
  {
   "cell_type": "markdown",
   "metadata": {},
   "source": [
    "# Dataset"
   ]
  },
  {
   "cell_type": "code",
   "execution_count": 4,
   "metadata": {},
   "outputs": [],
   "source": [
    "trainGenerator = dataGenerator('train', batch_size=batch_size, reshape=False, **data_augmentation)\n",
    "testGenerator = dataGenerator('test', batch_size=batch_size, reshape=False)"
   ]
  },
  {
   "cell_type": "markdown",
   "metadata": {},
   "source": [
    "# Model"
   ]
  },
  {
   "cell_type": "code",
   "execution_count": 5,
   "metadata": {},
   "outputs": [
    {
     "name": "stdout",
     "output_type": "stream",
     "text": [
      "WARNING:tensorflow:From /home/ec2-user/anaconda3/envs/tensorflow_p36/lib/python3.6/site-packages/tensorflow/python/framework/op_def_library.py:263: colocate_with (from tensorflow.python.framework.ops) is deprecated and will be removed in a future version.\n",
      "Instructions for updating:\n",
      "Colocations handled automatically by placer.\n"
     ]
    }
   ],
   "source": [
    "model = Sequential([    \n",
    "    Convolution2D(filters=256, kernel_size=(9, 9), padding='valid', activation='relu', input_shape=input_shape),\n",
    "    Convolution2D(filters=256, kernel_size=(9, 9), strides=2, padding='valid', activation='relu'),\n",
    "    \n",
    "    CapsCNN(12, kernel_size=(5, 5), routings=3, activation_caps=squash),\n",
    "\n",
    "    GlobalAveragePooling2D(),\n",
    "    Dense(10, name='capsule')\n",
    "])"
   ]
  },
  {
   "cell_type": "code",
   "execution_count": 6,
   "metadata": {},
   "outputs": [
    {
     "name": "stdout",
     "output_type": "stream",
     "text": [
      "_________________________________________________________________\n",
      "Layer (type)                 Output Shape              Param #   \n",
      "=================================================================\n",
      "conv2d_1 (Conv2D)            (None, 20, 20, 256)       20992     \n",
      "_________________________________________________________________\n",
      "conv2d_2 (Conv2D)            (None, 6, 6, 256)         5308672   \n",
      "_________________________________________________________________\n",
      "caps_cnn_1 (CapsCNN)         (None, 2, 2, 12)          76800     \n",
      "_________________________________________________________________\n",
      "global_average_pooling2d_1 ( (None, 12)                0         \n",
      "_________________________________________________________________\n",
      "capsule (Dense)              (None, 10)                130       \n",
      "=================================================================\n",
      "Total params: 5,406,594\n",
      "Trainable params: 5,406,594\n",
      "Non-trainable params: 0\n",
      "_________________________________________________________________\n"
     ]
    }
   ],
   "source": [
    "model.summary()"
   ]
  },
  {
   "cell_type": "markdown",
   "metadata": {},
   "source": [
    "# Training"
   ]
  },
  {
   "cell_type": "code",
   "execution_count": 7,
   "metadata": {},
   "outputs": [],
   "source": [
    "model.compile(optimizer=Adam(lr=1e-4),\n",
    "              loss=margin(),\n",
    "              metrics={'capsule': 'categorical_accuracy'})"
   ]
  },
  {
   "cell_type": "code",
   "execution_count": 8,
   "metadata": {},
   "outputs": [
    {
     "name": "stdout",
     "output_type": "stream",
     "text": [
      "WARNING:tensorflow:From /home/ec2-user/anaconda3/envs/tensorflow_p36/lib/python3.6/site-packages/tensorflow/python/ops/math_ops.py:3066: to_int32 (from tensorflow.python.ops.math_ops) is deprecated and will be removed in a future version.\n",
      "Instructions for updating:\n",
      "Use tf.cast instead.\n",
      "Epoch 1/10\n",
      "3750/3750 [==============================] - 156s 42ms/step - loss: 0.0866 - categorical_accuracy: 0.8987 - val_loss: 0.0261 - val_categorical_accuracy: 0.9690\n",
      "Epoch 2/10\n",
      "3750/3750 [==============================] - 153s 41ms/step - loss: 0.0232 - categorical_accuracy: 0.9716 - val_loss: 0.0127 - val_categorical_accuracy: 0.9844\n",
      "Epoch 3/10\n",
      "3750/3750 [==============================] - 153s 41ms/step - loss: 0.0158 - categorical_accuracy: 0.9807 - val_loss: 0.0088 - val_categorical_accuracy: 0.9898\n",
      "Epoch 4/10\n",
      "3750/3750 [==============================] - 153s 41ms/step - loss: 0.0123 - categorical_accuracy: 0.9847 - val_loss: 0.0077 - val_categorical_accuracy: 0.9910\n",
      "Epoch 5/10\n",
      "3750/3750 [==============================] - 154s 41ms/step - loss: 0.0109 - categorical_accuracy: 0.9867 - val_loss: 0.0073 - val_categorical_accuracy: 0.9907\n",
      "Epoch 6/10\n",
      "3750/3750 [==============================] - 153s 41ms/step - loss: 0.0091 - categorical_accuracy: 0.9893 - val_loss: 0.0072 - val_categorical_accuracy: 0.9910\n",
      "Epoch 7/10\n",
      "3750/3750 [==============================] - 153s 41ms/step - loss: 0.0082 - categorical_accuracy: 0.9904 - val_loss: 0.0063 - val_categorical_accuracy: 0.9925\n",
      "Epoch 8/10\n",
      "3750/3750 [==============================] - 152s 41ms/step - loss: 0.0072 - categorical_accuracy: 0.9909 - val_loss: 0.0059 - val_categorical_accuracy: 0.9933\n",
      "Epoch 9/10\n",
      "3750/3750 [==============================] - 152s 41ms/step - loss: 0.0065 - categorical_accuracy: 0.9922 - val_loss: 0.0068 - val_categorical_accuracy: 0.9904\n",
      "Epoch 10/10\n",
      "3750/3750 [==============================] - 152s 40ms/step - loss: 0.0059 - categorical_accuracy: 0.9929 - val_loss: 0.0055 - val_categorical_accuracy: 0.9932\n"
     ]
    }
   ],
   "source": [
    "hist = model.fit_generator(trainGenerator,\n",
    "                           steps_per_epoch=trainGenerator.n // trainGenerator.batch_size,\n",
    "                           epochs=10,\n",
    "                           validation_data=testGenerator,\n",
    "                           validation_steps=testGenerator.n // testGenerator.batch_size,\n",
    "                           workers=16,\n",
    "                           verbose=1)"
   ]
  },
  {
   "cell_type": "code",
   "execution_count": 9,
   "metadata": {},
   "outputs": [
    {
     "data": {
      "image/png": "[encoded data removed]",
      "text/plain": [
       "<Figure size 1440x288 with 2 Axes>"
      ]
     },
     "metadata": {},
     "output_type": "display_data"
    }
   ],
   "source": [
    "plotHistory(hist.history)"
   ]
  }
 ],
 "metadata": {
  "kernelspec": {
   "display_name": "conda_tensorflow_p36",
   "language": "python",
   "name": "conda_tensorflow_p36"
  },
  "language_info": {
   "codemirror_mode": {
    "name": "ipython",
    "version": 3
   },
   "file_extension": ".py",
   "mimetype": "text/x-python",
   "name": "python",
   "nbconvert_exporter": "python",
   "pygments_lexer": "ipython3",
   "version": "3.6.5"
  }
 },
 "nbformat": 4,
 "nbformat_minor": 2
}
