{
 "cells": [
  {
   "cell_type": "code",
   "execution_count": 1,
   "metadata": {},
   "outputs": [
    {
     "name": "stderr",
     "output_type": "stream",
     "text": [
      "Using TensorFlow backend.\n"
     ]
    }
   ],
   "source": [
    "import numpy as np\n",
    "import seaborn as sns\n",
    "from keras.models import Model, Sequential\n",
    "from keras.layers.convolutional import Convolution2D, MaxPooling2D, AveragePooling2D\n",
    "from keras.layers.core import Dense, Reshape, Dropout, Activation\n",
    "from keras.layers import Input, BatchNormalization, GlobalAveragePooling2D\n",
    "from keras.losses import mean_squared_error, categorical_crossentropy\n",
    "from keras.optimizers import Adam\n",
    "from keras.utils import plot_model, multi_gpu_model\n",
    "\n",
    "from utils import LossHistory, plotHistory, visualization_train, visualization_data, rotation_accuracy\n",
    "from keras_capsnet.layer.capsnet import PrimaryCaps, Caps, CapsCNN, ClassesCaps, Mask\n",
    "from keras_capsnet.losses import margin\n",
    "from keras_capsnet.activations import squash\n",
    "from datasets.mnist import dataGenerator"
   ]
  },
  {
   "cell_type": "code",
   "execution_count": 2,
   "metadata": {},
   "outputs": [],
   "source": [
    "# Plotting for dark theme\n",
    "sns.set(context='paper', style='darkgrid', rc={'figure.facecolor':'white'}, font_scale=1.2)"
   ]
  },
  {
   "cell_type": "markdown",
   "metadata": {},
   "source": [
    "# Parameters"
   ]
  },
  {
   "cell_type": "code",
   "execution_count": 3,
   "metadata": {},
   "outputs": [],
   "source": [
    "num_gpu = 8\n",
    "num_class = 10\n",
    "input_shape = (28, 28, 1)\n",
    "m_train = 60000\n",
    "m_test = 10000\n",
    "\n",
    "batch_size = num_gpu*4\n",
    "\n",
    "data_augmentation = {\n",
    "    'width_shift_range': 2,\n",
    "    'height_shift_range': 2\n",
    "}\n",
    "\n",
    "test_augmentation = {\n",
    "    'width_shift_range': 10,\n",
    "    'height_shift_range': 10\n",
    "}"
   ]
  },
  {
   "cell_type": "markdown",
   "metadata": {},
   "source": [
    "# Dataset"
   ]
  },
  {
   "cell_type": "code",
   "execution_count": 4,
   "metadata": {},
   "outputs": [],
   "source": [
    "trainGenerator = dataGenerator('train', batch_size=batch_size, reshape=False, **data_augmentation)\n",
    "testGenerator = dataGenerator('test', batch_size=batch_size, reshape=False)"
   ]
  },
  {
   "cell_type": "markdown",
   "metadata": {},
   "source": [
    "# Model"
   ]
  },
  {
   "cell_type": "code",
   "execution_count": 5,
   "metadata": {},
   "outputs": [
    {
     "name": "stdout",
     "output_type": "stream",
     "text": [
      "WARNING:tensorflow:From /home/ec2-user/anaconda3/envs/tensorflow_p36/lib/python3.6/site-packages/tensorflow/python/framework/op_def_library.py:263: colocate_with (from tensorflow.python.framework.ops) is deprecated and will be removed in a future version.\n",
      "Instructions for updating:\n",
      "Colocations handled automatically by placer.\n"
     ]
    }
   ],
   "source": [
    "model = Sequential([    \n",
    "    Convolution2D(filters=16, kernel_size=(9, 9), padding='valid', activation='relu', input_shape=input_shape),\n",
    "    Convolution2D(filters=32, kernel_size=(9, 9), strides=2, padding='valid', activation='relu'),\n",
    "    \n",
    "    CapsCNN(12, kernel_size=(5, 5), routings=3, activation_caps=squash),\n",
    "\n",
    "    GlobalAveragePooling2D(),\n",
    "    Dense(10, name='capsule')\n",
    "])"
   ]
  },
  {
   "cell_type": "code",
   "execution_count": 6,
   "metadata": {},
   "outputs": [
    {
     "name": "stdout",
     "output_type": "stream",
     "text": [
      "_________________________________________________________________\n",
      "Layer (type)                 Output Shape              Param #   \n",
      "=================================================================\n",
      "conv2d_1 (Conv2D)            (None, 20, 20, 16)        1312      \n",
      "_________________________________________________________________\n",
      "conv2d_2 (Conv2D)            (None, 6, 6, 32)          41504     \n",
      "_________________________________________________________________\n",
      "caps_cnn_1 (CapsCNN)         (None, 2, 2, 12)          9600      \n",
      "_________________________________________________________________\n",
      "global_average_pooling2d_1 ( (None, 12)                0         \n",
      "_________________________________________________________________\n",
      "capsule (Dense)              (None, 10)                130       \n",
      "=================================================================\n",
      "Total params: 52,546\n",
      "Trainable params: 52,546\n",
      "Non-trainable params: 0\n",
      "_________________________________________________________________\n"
     ]
    }
   ],
   "source": [
    "model.summary()"
   ]
  },
  {
   "cell_type": "markdown",
   "metadata": {},
   "source": [
    "# Training"
   ]
  },
  {
   "cell_type": "code",
   "execution_count": 7,
   "metadata": {},
   "outputs": [],
   "source": [
    "model = multi_gpu_model(model, gpus=num_gpu)\n",
    "model.compile(optimizer=Adam(lr=1e-3),\n",
    "              loss=margin(),\n",
    "              metrics={'capsule': 'categorical_accuracy'})"
   ]
  },
  {
   "cell_type": "code",
   "execution_count": 8,
   "metadata": {},
   "outputs": [
    {
     "name": "stdout",
     "output_type": "stream",
     "text": [
      "WARNING:tensorflow:From /home/ec2-user/anaconda3/envs/tensorflow_p36/lib/python3.6/site-packages/tensorflow/python/ops/math_ops.py:3066: to_int32 (from tensorflow.python.ops.math_ops) is deprecated and will be removed in a future version.\n",
      "Instructions for updating:\n",
      "Use tf.cast instead.\n",
      "Epoch 1/5\n",
      "1875/1875 [==============================] - 48s 26ms/step - loss: 0.1008 - categorical_accuracy: 0.8754 - val_loss: 0.0251 - val_categorical_accuracy: 0.9684\n",
      "Epoch 2/5\n",
      "1875/1875 [==============================] - 26s 14ms/step - loss: 0.0289 - categorical_accuracy: 0.9656 - val_loss: 0.0231 - val_categorical_accuracy: 0.9736\n",
      "Epoch 3/5\n",
      "1875/1875 [==============================] - 26s 14ms/step - loss: 0.0218 - categorical_accuracy: 0.9737 - val_loss: 0.0143 - val_categorical_accuracy: 0.9819\n",
      "Epoch 4/5\n",
      "1875/1875 [==============================] - 26s 14ms/step - loss: 0.0185 - categorical_accuracy: 0.9785 - val_loss: 0.0114 - val_categorical_accuracy: 0.9870\n",
      "Epoch 5/5\n",
      "1875/1875 [==============================] - 26s 14ms/step - loss: 0.0163 - categorical_accuracy: 0.9807 - val_loss: 0.0110 - val_categorical_accuracy: 0.9866\n"
     ]
    }
   ],
   "source": [
    "hist = model.fit_generator(trainGenerator,\n",
    "                           steps_per_epoch=trainGenerator.n // trainGenerator.batch_size,\n",
    "                           epochs=5,\n",
    "                           validation_data=testGenerator,\n",
    "                           validation_steps=testGenerator.n // testGenerator.batch_size,\n",
    "                           workers=32,\n",
    "                           verbose=1)"
   ]
  },
  {
   "cell_type": "code",
   "execution_count": 9,
   "metadata": {},
   "outputs": [
    {
     "data": {
      "image/png": "[encoded data removed]",
      "text/plain": [
       "<Figure size 1440x288 with 2 Axes>"
      ]
     },
     "metadata": {},
     "output_type": "display_data"
    }
   ],
   "source": [
    "plotHistory(hist.history)"
   ]
  }
 ],
 "metadata": {
  "kernelspec": {
   "display_name": "conda_tensorflow_p36",
   "language": "python",
   "name": "conda_tensorflow_p36"
  },
  "language_info": {
   "codemirror_mode": {
    "name": "ipython",
    "version": 3
   },
   "file_extension": ".py",
   "mimetype": "text/x-python",
   "name": "python",
   "nbconvert_exporter": "python",
   "pygments_lexer": "ipython3",
   "version": "3.6.5"
  }
 },
 "nbformat": 4,
 "nbformat_minor": 2
}
