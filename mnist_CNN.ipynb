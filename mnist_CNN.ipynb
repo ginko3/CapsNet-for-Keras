{
 "cells": [
  {
   "cell_type": "code",
   "execution_count": 1,
   "metadata": {},
   "outputs": [
    {
     "name": "stderr",
     "output_type": "stream",
     "text": [
      "Using TensorFlow backend.\n"
     ]
    }
   ],
   "source": [
    "import numpy as np\n",
    "import seaborn as sns\n",
    "from matplotlib import pyplot as plt\n",
    "from keras.models import Model, Sequential\n",
    "from keras.layers.convolutional import Convolution2D, MaxPooling2D, AveragePooling2D\n",
    "from keras.layers.core import Dense, Reshape, Dropout, Activation\n",
    "from keras.layers import Input, BatchNormalization, GlobalAveragePooling2D, Flatten\n",
    "from keras.losses import mean_squared_error, categorical_crossentropy\n",
    "from keras.optimizers import Adam\n",
    "from keras.utils import plot_model, multi_gpu_model\n",
    "\n",
    "from utils import LossHistory, plotHistory, visualization_train, visualization_data, rotation_accuracy\n",
    "from keras_capsnet.layer.capsnet import PrimaryCaps, Caps, CapsCNN, ClassesCaps, Mask\n",
    "from keras_capsnet.losses import margin\n",
    "from keras_capsnet.activations import squash\n",
    "from datasets.mnist import dataGenerator"
   ]
  },
  {
   "cell_type": "code",
   "execution_count": 2,
   "metadata": {},
   "outputs": [],
   "source": [
    "# Plotting for dark theme\n",
    "sns.set(context='paper', style='darkgrid', rc={'figure.facecolor':'white'}, font_scale=1.2)"
   ]
  },
  {
   "cell_type": "markdown",
   "metadata": {},
   "source": [
    "# Parameters"
   ]
  },
  {
   "cell_type": "code",
   "execution_count": 3,
   "metadata": {},
   "outputs": [],
   "source": [
    "num_class = 10\n",
    "input_shape = (28, 28, 1)\n",
    "\n",
    "batch_size = 16\n",
    "\n",
    "data_augmentation = {\n",
    "    'width_shift_range': 2,\n",
    "    'height_shift_range': 2\n",
    "}\n",
    "\n",
    "test_augmentation = {\n",
    "    'width_shift_range': 10,\n",
    "    'height_shift_range': 10\n",
    "}"
   ]
  },
  {
   "cell_type": "markdown",
   "metadata": {},
   "source": [
    "# Dataset"
   ]
  },
  {
   "cell_type": "code",
   "execution_count": 4,
   "metadata": {},
   "outputs": [],
   "source": [
    "trainGenerator = dataGenerator('train', batch_size=batch_size, reshape=False, **data_augmentation)\n",
    "testGenerator = dataGenerator('test', batch_size=batch_size, reshape=False)"
   ]
  },
  {
   "cell_type": "markdown",
   "metadata": {},
   "source": [
    "# Model"
   ]
  },
  {
   "cell_type": "code",
   "execution_count": 5,
   "metadata": {},
   "outputs": [
    {
     "name": "stdout",
     "output_type": "stream",
     "text": [
      "WARNING:tensorflow:From /home/ec2-user/anaconda3/envs/tensorflow_p36/lib/python3.6/site-packages/tensorflow/python/framework/op_def_library.py:263: colocate_with (from tensorflow.python.framework.ops) is deprecated and will be removed in a future version.\n",
      "Instructions for updating:\n",
      "Colocations handled automatically by placer.\n"
     ]
    }
   ],
   "source": [
    "model = Sequential([    \n",
    "    Convolution2D(filters=128, kernel_size=(9, 9), padding='valid', activation='relu', input_shape=input_shape, name=\"Input\"),\n",
    "    Convolution2D(filters=32, kernel_size=(3, 3), padding='valid', activation=\"relu\", strides=2, name=\"PrimaryCaps\"),\n",
    "    Activation(squash, name=\"Squash\"),\n",
    "    \n",
    "    CapsCNN(16, kernel_size=(5, 5), routings=3, activation_caps=squash, name=\"ConvolutionalCaps\"),\n",
    "    \n",
    "    Reshape((-1, 16), name='Flatten'),\n",
    "    \n",
    "    Caps(capsules=num_class, capsule_dim=12, routings=3, activation_caps=squash, name=\"Caps\"),\n",
    "    ClassesCaps(name='capsule'),\n",
    "])\n",
    "# plot_model(model, show_shapes=True)"
   ]
  },
  {
   "cell_type": "code",
   "execution_count": 6,
   "metadata": {},
   "outputs": [
    {
     "name": "stdout",
     "output_type": "stream",
     "text": [
      "_________________________________________________________________\n",
      "Layer (type)                 Output Shape              Param #   \n",
      "=================================================================\n",
      "Input (Conv2D)               (None, 20, 20, 128)       10496     \n",
      "_________________________________________________________________\n",
      "PrimaryCaps (Conv2D)         (None, 9, 9, 32)          36896     \n",
      "_________________________________________________________________\n",
      "Squash (Activation)          (None, 9, 9, 32)          0         \n",
      "_________________________________________________________________\n",
      "ConvolutionalCaps (CapsCNN)  (None, 5, 5, 16)          12800     \n",
      "_________________________________________________________________\n",
      "Flatten (Reshape)            (None, 25, 16)            0         \n",
      "_________________________________________________________________\n",
      "Caps (Caps)                  (None, 10, 12)            48000     \n",
      "_________________________________________________________________\n",
      "capsule (ClassesCaps)        (None, 10)                0         \n",
      "=================================================================\n",
      "Total params: 108,192\n",
      "Trainable params: 108,192\n",
      "Non-trainable params: 0\n",
      "_________________________________________________________________\n"
     ]
    }
   ],
   "source": [
    "model.summary()"
   ]
  },
  {
   "cell_type": "markdown",
   "metadata": {},
   "source": [
    "# Training"
   ]
  },
  {
   "cell_type": "code",
   "execution_count": 7,
   "metadata": {},
   "outputs": [],
   "source": [
    "model.compile(optimizer=Adam(lr=1e-3),\n",
    "              loss=margin(),\n",
    "              metrics={'capsule': 'categorical_accuracy'})"
   ]
  },
  {
   "cell_type": "code",
   "execution_count": 8,
   "metadata": {},
   "outputs": [
    {
     "name": "stdout",
     "output_type": "stream",
     "text": [
      "WARNING:tensorflow:From /home/ec2-user/anaconda3/envs/tensorflow_p36/lib/python3.6/site-packages/tensorflow/python/ops/math_ops.py:3066: to_int32 (from tensorflow.python.ops.math_ops) is deprecated and will be removed in a future version.\n",
      "Instructions for updating:\n",
      "Use tf.cast instead.\n",
      "Epoch 1/10\n",
      "3750/3750 [==============================] - 101s 27ms/step - loss: 0.2022 - categorical_accuracy: 0.7406 - val_loss: 0.0209 - val_categorical_accuracy: 0.9786\n",
      "Epoch 2/10\n",
      "3750/3750 [==============================] - 98s 26ms/step - loss: 0.0225 - categorical_accuracy: 0.9760 - val_loss: 0.0131 - val_categorical_accuracy: 0.9867\n",
      "Epoch 3/10\n",
      "3750/3750 [==============================] - 99s 26ms/step - loss: 0.0164 - categorical_accuracy: 0.9829 - val_loss: 0.0103 - val_categorical_accuracy: 0.9896\n",
      "Epoch 4/10\n",
      "3750/3750 [==============================] - 98s 26ms/step - loss: 0.0136 - categorical_accuracy: 0.9855 - val_loss: 0.0086 - val_categorical_accuracy: 0.9902\n",
      "Epoch 5/10\n",
      "3750/3750 [==============================] - 99s 26ms/step - loss: 0.0122 - categorical_accuracy: 0.9869 - val_loss: 0.0088 - val_categorical_accuracy: 0.9895\n",
      "Epoch 6/10\n",
      "3750/3750 [==============================] - 98s 26ms/step - loss: 0.0109 - categorical_accuracy: 0.9883 - val_loss: 0.0080 - val_categorical_accuracy: 0.9922\n",
      "Epoch 7/10\n",
      "3750/3750 [==============================] - 99s 26ms/step - loss: 0.0100 - categorical_accuracy: 0.9891 - val_loss: 0.0074 - val_categorical_accuracy: 0.9921\n",
      "Epoch 8/10\n",
      "3750/3750 [==============================] - 98s 26ms/step - loss: 0.0087 - categorical_accuracy: 0.9909 - val_loss: 0.0074 - val_categorical_accuracy: 0.9920\n",
      "Epoch 9/10\n",
      "3750/3750 [==============================] - 99s 26ms/step - loss: 0.0085 - categorical_accuracy: 0.9911 - val_loss: 0.0069 - val_categorical_accuracy: 0.9923\n",
      "Epoch 10/10\n",
      "3750/3750 [==============================] - 100s 27ms/step - loss: 0.0080 - categorical_accuracy: 0.9915 - val_loss: 0.0072 - val_categorical_accuracy: 0.9918\n"
     ]
    }
   ],
   "source": [
    "hist = model.fit_generator(trainGenerator,\n",
    "                           steps_per_epoch=trainGenerator.n // trainGenerator.batch_size,\n",
    "                           epochs=10,\n",
    "                           validation_data=testGenerator,\n",
    "                           validation_steps=testGenerator.n // testGenerator.batch_size,\n",
    "                           workers=4,\n",
    "                           verbose=1)"
   ]
  },
  {
   "cell_type": "code",
   "execution_count": 9,
   "metadata": {},
   "outputs": [
    {
     "data": {
      "image/png": "[encoded data removed]",
      "text/plain": [
       "<Figure size 1440x288 with 2 Axes>"
      ]
     },
     "metadata": {},
     "output_type": "display_data"
    }
   ],
   "source": [
    "plotHistory(hist.history)\n",
    "plt.savefig('mnist_CNN.png')"
   ]
  }
 ],
 "metadata": {
  "kernelspec": {
   "display_name": "conda_tensorflow_p36",
   "language": "python",
   "name": "conda_tensorflow_p36"
  },
  "language_info": {
   "codemirror_mode": {
    "name": "ipython",
    "version": 3
   },
   "file_extension": ".py",
   "mimetype": "text/x-python",
   "name": "python",
   "nbconvert_exporter": "python",
   "pygments_lexer": "ipython3",
   "version": "3.6.5"
  }
 },
 "nbformat": 4,
 "nbformat_minor": 2
}
