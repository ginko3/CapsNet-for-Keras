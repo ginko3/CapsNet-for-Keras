{
 "cells": [
  {
   "cell_type": "code",
   "execution_count": 1,
   "metadata": {},
   "outputs": [
    {
     "name": "stderr",
     "output_type": "stream",
     "text": [
      "Using TensorFlow backend.\n"
     ]
    }
   ],
   "source": [
    "import numpy as np\n",
    "from keras.datasets import mnist\n",
    "from keras.utils import to_categorical\n",
    "from keras.models import Model\n",
    "from keras.layers.convolutional import Convolution2D\n",
    "from keras.layers.core import Dense, Reshape\n",
    "from keras.layers import Input\n",
    "from keras.losses import mean_squared_error\n",
    "from keras.optimizers import Adam\n",
    "\n",
    "from utils import LossHistory, plotHistory\n",
    "from keras_capsnet.layer.capsnet import PrimaryCaps, Caps, Length, Mask\n",
    "from keras_capsnet.losses import margin"
   ]
  },
  {
   "cell_type": "markdown",
   "metadata": {},
   "source": [
    "# Args"
   ]
  },
  {
   "cell_type": "code",
   "execution_count": 2,
   "metadata": {},
   "outputs": [],
   "source": [
    "num_class = 10\n",
    "input_shape = (28, 28, 1)"
   ]
  },
  {
   "cell_type": "markdown",
   "metadata": {},
   "source": [
    "# Dataset"
   ]
  },
  {
   "cell_type": "code",
   "execution_count": 3,
   "metadata": {},
   "outputs": [],
   "source": [
    "(x_train, y_train), (x_test, y_test) = mnist.load_data()"
   ]
  },
  {
   "cell_type": "code",
   "execution_count": 4,
   "metadata": {},
   "outputs": [],
   "source": [
    "x_train = x_train.reshape(-1, 28, 28, 1).astype('float32') / 255\n",
    "x_test = x_test.reshape(-1, 28, 28, 1).astype('float32') / 255\n",
    "\n",
    "y_train = to_categorical(y_train, num_class)\n",
    "y_test = to_categorical(y_test, num_class)"
   ]
  },
  {
   "cell_type": "markdown",
   "metadata": {},
   "source": [
    "# Model"
   ]
  },
  {
   "cell_type": "code",
   "execution_count": 5,
   "metadata": {},
   "outputs": [],
   "source": [
    "x = Input(shape=input_shape)\n",
    "y = Input(shape=(num_class,))\n",
    "\n",
    "encoder = Convolution2D(filters=256, kernel_size=(9, 9), activation='relu') (x)\n",
    "encoder = PrimaryCaps(capsules=32, capsule_dim=8, kernel_size=(9, 9), strides=2) (encoder)\n",
    "encoder = Caps(capsules=10, capsule_dim=16, routings=3) (encoder)\n",
    "\n",
    "output = Length(name='capsule') (encoder)\n",
    "\n",
    "decoder = Mask() (encoder, y_true=y)\n",
    "decoder = Dense(512, activation='relu') (decoder)\n",
    "decoder = Dense(1024, activation='relu') (decoder)\n",
    "decoder = Dense(784, activation='sigmoid') (decoder)\n",
    "decoder = Reshape((input_shape), name='reconstruction') (decoder)\n",
    "\n",
    "model_training = Model(inputs=[x, y], outputs=[output, decoder])\n",
    "model = Model(inputs=x, outputs=output)"
   ]
  },
  {
   "cell_type": "code",
   "execution_count": 6,
   "metadata": {},
   "outputs": [
    {
     "name": "stdout",
     "output_type": "stream",
     "text": [
      "_________________________________________________________________\n",
      "Layer (type)                 Output Shape              Param #   \n",
      "=================================================================\n",
      "input_1 (InputLayer)         (None, 28, 28, 1)         0         \n",
      "_________________________________________________________________\n",
      "conv2d_1 (Conv2D)            (None, 20, 20, 256)       20992     \n",
      "_________________________________________________________________\n",
      "primary_caps_1 (PrimaryCaps) (None, 1152, 8)           5308672   \n",
      "_________________________________________________________________\n",
      "caps_1 (Caps)                (None, 10, 16)            1474560   \n",
      "_________________________________________________________________\n",
      "capsule (Length)             (None, 10)                0         \n",
      "=================================================================\n",
      "Total params: 6,804,224\n",
      "Trainable params: 6,804,224\n",
      "Non-trainable params: 0\n",
      "_________________________________________________________________\n"
     ]
    }
   ],
   "source": [
    "model.summary()"
   ]
  },
  {
   "cell_type": "markdown",
   "metadata": {},
   "source": [
    "# Training"
   ]
  },
  {
   "cell_type": "code",
   "execution_count": 7,
   "metadata": {},
   "outputs": [],
   "source": [
    "model_training.compile(loss=[margin(), mean_squared_error],\n",
    "                        loss_weights=[0.7, 0.3],\n",
    "                        optimizer=Adam(),\n",
    "                        metrics={'capsule': 'accuracy'})"
   ]
  },
  {
   "cell_type": "code",
   "execution_count": null,
   "metadata": {},
   "outputs": [],
   "source": [
    "history = LossHistory()\n",
    "hist = model_training.fit([x_train, y_train],\n",
    "                            [y_train, x_train],\n",
    "                            batch_size=32,\n",
    "                            epochs=2,\n",
    "                            validation_data=([x_test, y_test], [y_test, x_test]),\n",
    "                            callbacks=[history])"
   ]
  },
  {
   "cell_type": "code",
   "execution_count": null,
   "metadata": {},
   "outputs": [],
   "source": [
    "plotHistory(history.loss, history.acc)"
   ]
  }
 ],
 "metadata": {
  "kernelspec": {
   "display_name": "Python 3",
   "language": "python",
   "name": "python3"
  },
  "language_info": {
   "codemirror_mode": {
    "name": "ipython",
    "version": 3
   },
   "file_extension": ".py",
   "mimetype": "text/x-python",
   "name": "python",
   "nbconvert_exporter": "python",
   "pygments_lexer": "ipython3",
   "version": "3.5.2"
  }
 },
 "nbformat": 4,
 "nbformat_minor": 2
}
