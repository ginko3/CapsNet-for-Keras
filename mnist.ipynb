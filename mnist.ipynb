{
 "cells": [
  {
   "cell_type": "code",
   "execution_count": 1,
   "metadata": {},
   "outputs": [
    {
     "name": "stderr",
     "output_type": "stream",
     "text": [
      "Using TensorFlow backend.\n"
     ]
    }
   ],
   "source": [
    "import numpy as np\n",
    "from keras.models import Model\n",
    "from keras.layers.convolutional import Convolution2D\n",
    "from keras.layers.core import Dense, Reshape, Dropout, Activation\n",
    "from keras.layers import Input, BatchNormalization\n",
    "from keras.losses import mean_squared_error, categorical_crossentropy\n",
    "from keras.optimizers import Adam\n",
    "\n",
    "from utils import LossHistory, plotHistory, visualization_train, visualization_data, rotation_accuracy\n",
    "from keras_capsnet.layer.capsnet import PrimaryCaps, Caps, ClassesCaps, Mask\n",
    "from keras_capsnet.losses import margin\n",
    "from keras_capsnet.activations import squash\n",
    "from datasets.mnist import dataGenerator"
   ]
  },
  {
   "cell_type": "markdown",
   "metadata": {},
   "source": [
    "# Parameters"
   ]
  },
  {
   "cell_type": "code",
   "execution_count": 2,
   "metadata": {},
   "outputs": [],
   "source": [
    "num_class = 10\n",
    "input_shape = (28, 28, 1)\n",
    "m_train = 60000\n",
    "m_test = 50000\n",
    "\n",
    "batch_size = 32\n",
    "\n",
    "data_augmentation = {\n",
    "    'width_shift_range': 2,\n",
    "    'height_shift_range': 2\n",
    "}"
   ]
  },
  {
   "cell_type": "markdown",
   "metadata": {},
   "source": [
    "# Dataset"
   ]
  },
  {
   "cell_type": "code",
   "execution_count": 3,
   "metadata": {},
   "outputs": [
    {
     "name": "stdout",
     "output_type": "stream",
     "text": [
      "Downloading data from https://s3.amazonaws.com/img-datasets/mnist.npz\n",
      "11493376/11490434 [==============================] - 0s 0us/step\n"
     ]
    }
   ],
   "source": [
    "trainGenerator = dataGenerator('train', batch_size=batch_size, **data_augmentation)\n",
    "testGenerator = dataGenerator('test', batch_size=batch_size)"
   ]
  },
  {
   "cell_type": "markdown",
   "metadata": {},
   "source": [
    "# Model"
   ]
  },
  {
   "cell_type": "code",
   "execution_count": 4,
   "metadata": {},
   "outputs": [],
   "source": [
    "x = Input(shape=input_shape)\n",
    "y = Input(shape=(num_class,))\n",
    "\n",
    "encoder = Convolution2D(filters=80, kernel_size=(9, 9), activation='relu') (x)\n",
    "encoder = PrimaryCaps(capsules=8, capsule_dim=6, kernel_size=(9, 9), strides=2, activation='relu', activation_caps=squash) (encoder)\n",
    "encoder = Caps(capsules=10, capsule_dim=10, routings=3, activation_caps=squash) (encoder)\n",
    "\n",
    "output = ClassesCaps(name='capsule') (encoder)\n",
    "\n",
    "decoder = Mask() (encoder, y_true=y)\n",
    "decoder = Dense(512, activation='relu') (decoder)\n",
    "decoder = Dense(1024, activation='relu') (decoder)\n",
    "decoder = Dense(784, activation='sigmoid') (decoder)\n",
    "decoder = Reshape((input_shape), name='reconstruction') (decoder)\n",
    "\n",
    "model_training = Model(inputs=[x, y], outputs=[output, decoder])\n",
    "model = Model(inputs=x, outputs=output)"
   ]
  },
  {
   "cell_type": "code",
   "execution_count": 5,
   "metadata": {},
   "outputs": [
    {
     "name": "stdout",
     "output_type": "stream",
     "text": [
      "_________________________________________________________________\n",
      "Layer (type)                 Output Shape              Param #   \n",
      "=================================================================\n",
      "input_1 (InputLayer)         (None, 28, 28, 1)         0         \n",
      "_________________________________________________________________\n",
      "conv2d_1 (Conv2D)            (None, 20, 20, 80)        6560      \n",
      "_________________________________________________________________\n",
      "primary_caps_1 (PrimaryCaps) (None, 288, 6)            311088    \n",
      "_________________________________________________________________\n",
      "caps_1 (Caps)                (None, 10, 10)            172800    \n",
      "_________________________________________________________________\n",
      "capsule (ClassesCaps)        (None, 10)                0         \n",
      "=================================================================\n",
      "Total params: 490,448\n",
      "Trainable params: 490,448\n",
      "Non-trainable params: 0\n",
      "_________________________________________________________________\n"
     ]
    }
   ],
   "source": [
    "model.summary()"
   ]
  },
  {
   "cell_type": "markdown",
   "metadata": {},
   "source": [
    "# Training"
   ]
  },
  {
   "cell_type": "code",
   "execution_count": 6,
   "metadata": {},
   "outputs": [],
   "source": [
    "model_training.compile(optimizer=Adam(lr=2e-3),\n",
    "                       loss=[margin(), mean_squared_error],\n",
    "                       loss_weights=[1, 0.0005],\n",
    "                       metrics={'capsule': 'accuracy'})\n",
    "\n",
    "model.compile(optimizer=Adam(), loss=margin(), metrics=['accuracy'])"
   ]
  },
  {
   "cell_type": "code",
   "execution_count": 7,
   "metadata": {},
   "outputs": [],
   "source": [
    "history = LossHistory(metrics=('loss', 'capsule_loss', 'reconstruction_loss', 'capsule_acc'))"
   ]
  },
  {
   "cell_type": "code",
   "execution_count": null,
   "metadata": {},
   "outputs": [],
   "source": [
    "hist = model_training.fit_generator(trainGenerator,\n",
    "                                    steps_per_epoch=m_train // batch_size,\n",
    "                                    epochs=30,\n",
    "                                    validation_data=testGenerator,\n",
    "                                    validation_steps=m_test // batch_size,\n",
    "                                    verbose=2,\n",
    "                                    callbacks=[history])\n",
    "plotHistory(history.metrics)"
   ]
  },
  {
   "cell_type": "code",
   "execution_count": null,
   "metadata": {},
   "outputs": [],
   "source": []
  },
  {
   "cell_type": "markdown",
   "metadata": {},
   "source": [
    "# Training visualization"
   ]
  },
  {
   "cell_type": "code",
   "execution_count": null,
   "metadata": {},
   "outputs": [],
   "source": [
    "n_image = 5\n",
    "\n",
    "# Select data\n",
    "images, labels = next(dataGenerator('test', batch_size=n_image, reshape=False))\n",
    "\n",
    "# Run inference\n",
    "classes, reconstructions = model_training.predict([images, labels])\n",
    "\n",
    "# Post-process data\n",
    "labels = np.argmax(labels, axis=1)\n",
    "predictions = np.argmax(classes, axis=1)\n",
    "images = images.reshape(-1, 28, 28)\n",
    "reconstructions = reconstructions.reshape(-1, 28, 28)\n",
    "\n",
    "visualization_train((images, labels), (reconstructions, predictions))\n",
    "plt.savefig('fig.png')"
   ]
  },
  {
   "cell_type": "markdown",
   "metadata": {},
   "source": [
    "# Evaluation on augmented data"
   ]
  },
  {
   "cell_type": "markdown",
   "metadata": {},
   "source": [
    "## Accuracy\n",
    "Test accuracy for different rotations on test data"
   ]
  },
  {
   "cell_type": "code",
   "execution_count": null,
   "metadata": {},
   "outputs": [],
   "source": [
    "rotation_accuracy(model, dataGenerator, m_test=m_test, batch_size=batch_size)\n",
    "plt.savefig('fig.png')"
   ]
  },
  {
   "cell_type": "markdown",
   "metadata": {},
   "source": [
    "## Visualization"
   ]
  },
  {
   "cell_type": "code",
   "execution_count": null,
   "metadata": {},
   "outputs": [],
   "source": [
    "n_image=5\n",
    "data_augmentation = {'rotation_range': 50}\n",
    "\n",
    "# Select data\n",
    "testGenerator = dataGenerator('test', batch_size=n_image, reshape=False, **data_augmentation)\n",
    "images, labels = next(testGenerator)\n",
    "\n",
    "# Run inference\n",
    "predictions = model.predict(images)\n",
    "\n",
    "# Post-process data\n",
    "labels = np.argmax(labels, axis=1)\n",
    "predictions = np.argmax(predictions, axis=1)\n",
    "images = images.reshape((-1, 28, 28))\n",
    "\n",
    "visualization_data(images, labels, predictions)\n",
    "\n",
    "plt.savefig('fig.png')"
   ]
  }
 ],
 "metadata": {
  "kernelspec": {
   "display_name": "conda_tensorflow_p36",
   "language": "python",
   "name": "conda_tensorflow_p36"
  },
  "language_info": {
   "codemirror_mode": {
    "name": "ipython",
    "version": 3
   },
   "file_extension": ".py",
   "mimetype": "text/x-python",
   "name": "python",
   "nbconvert_exporter": "python",
   "pygments_lexer": "ipython3",
   "version": "3.6.5"
  }
 },
 "nbformat": 4,
 "nbformat_minor": 2
}
