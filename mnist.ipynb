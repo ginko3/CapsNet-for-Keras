{
 "cells": [
  {
   "cell_type": "code",
   "execution_count": 1,
   "metadata": {},
   "outputs": [
    {
     "name": "stderr",
     "output_type": "stream",
     "text": [
      "Using TensorFlow backend.\n"
     ]
    }
   ],
   "source": [
    "import numpy as np\n",
    "import seaborn as sns\n",
    "from matplotlib import pyplot as plt\n",
    "from keras.models import Model, Sequential\n",
    "from keras.layers.convolutional import Convolution2D\n",
    "from keras.layers.core import Dense, Reshape, Dropout, Activation\n",
    "from keras.layers import Input, BatchNormalization\n",
    "from keras.losses import mean_squared_error, categorical_crossentropy\n",
    "from keras.optimizers import Adam\n",
    "from keras.utils import plot_model, multi_gpu_model\n",
    "\n",
    "from utils import LossHistory, plotHistory, visualization_train, visualization_data, rotation_accuracy\n",
    "from keras_capsnet.layer.capsnet import PrimaryCaps, Caps, ClassesCaps, Mask\n",
    "from keras_capsnet.losses import margin\n",
    "from keras_capsnet.activations import squash\n",
    "from datasets.mnist import dataGenerator"
   ]
  },
  {
   "cell_type": "code",
   "execution_count": 2,
   "metadata": {},
   "outputs": [],
   "source": [
    "# Plotting for dark theme\n",
    "sns.set(context='paper', style='darkgrid', rc={'figure.facecolor':'white'}, font_scale=1.2)"
   ]
  },
  {
   "cell_type": "markdown",
   "metadata": {},
   "source": [
    "# Parameters"
   ]
  },
  {
   "cell_type": "code",
   "execution_count": 3,
   "metadata": {},
   "outputs": [],
   "source": [
    "num_class = 10\n",
    "input_shape = (28, 28, 1)\n",
    "m_train = 60000\n",
    "m_test = 10000\n",
    "\n",
    "batch_size = 16\n",
    "\n",
    "data_augmentation = {\n",
    "    'width_shift_range': 2,\n",
    "    'height_shift_range': 2\n",
    "}"
   ]
  },
  {
   "cell_type": "markdown",
   "metadata": {},
   "source": [
    "# Dataset"
   ]
  },
  {
   "cell_type": "code",
   "execution_count": 4,
   "metadata": {},
   "outputs": [
    {
     "name": "stdout",
     "output_type": "stream",
     "text": [
      "Downloading data from https://s3.amazonaws.com/img-datasets/mnist.npz\n",
      "11493376/11490434 [==============================] - 0s 0us/step\n"
     ]
    }
   ],
   "source": [
    "trainGenerator = dataGenerator('train', batch_size=batch_size, reshape=False, **data_augmentation)\n",
    "testGenerator = dataGenerator('test', batch_size=batch_size, reshape=False)"
   ]
  },
  {
   "cell_type": "markdown",
   "metadata": {},
   "source": [
    "# Model"
   ]
  },
  {
   "cell_type": "code",
   "execution_count": 5,
   "metadata": {},
   "outputs": [
    {
     "name": "stdout",
     "output_type": "stream",
     "text": [
      "WARNING:tensorflow:From /home/ec2-user/anaconda3/envs/tensorflow_p36/lib/python3.6/site-packages/tensorflow/python/framework/op_def_library.py:263: colocate_with (from tensorflow.python.framework.ops) is deprecated and will be removed in a future version.\n",
      "Instructions for updating:\n",
      "Colocations handled automatically by placer.\n"
     ]
    }
   ],
   "source": [
    "model = Sequential([\n",
    "    Convolution2D(filters=256, kernel_size=(9, 9), strides=1, padding='valid', activation='relu', input_shape=input_shape),\n",
    "    PrimaryCaps(capsules=32, capsule_dim=8, kernel_size=(9, 9), strides=2, padding=\"valid\", activation_caps=squash),\n",
    "    Caps(capsules=num_class, capsule_dim=16, routings=3, activation_caps=squash),\n",
    "    ClassesCaps(name='capsule'),\n",
    "])"
   ]
  },
  {
   "cell_type": "code",
   "execution_count": 6,
   "metadata": {},
   "outputs": [
    {
     "name": "stdout",
     "output_type": "stream",
     "text": [
      "_________________________________________________________________\n",
      "Layer (type)                 Output Shape              Param #   \n",
      "=================================================================\n",
      "conv2d_1 (Conv2D)            (None, 20, 20, 256)       20992     \n",
      "_________________________________________________________________\n",
      "primary_caps_1 (PrimaryCaps) (None, 1152, 8)           5308672   \n",
      "_________________________________________________________________\n",
      "caps_1 (Caps)                (None, 10, 16)            1474560   \n",
      "_________________________________________________________________\n",
      "capsule (ClassesCaps)        (None, 10)                0         \n",
      "=================================================================\n",
      "Total params: 6,804,224\n",
      "Trainable params: 6,804,224\n",
      "Non-trainable params: 0\n",
      "_________________________________________________________________\n"
     ]
    }
   ],
   "source": [
    "model.summary()"
   ]
  },
  {
   "cell_type": "markdown",
   "metadata": {},
   "source": [
    "# Training"
   ]
  },
  {
   "cell_type": "code",
   "execution_count": 7,
   "metadata": {},
   "outputs": [],
   "source": [
    "model.compile(optimizer=Adam(lr=1e-4),\n",
    "              loss=margin(),\n",
    "              metrics={'capsule': 'categorical_accuracy'})"
   ]
  },
  {
   "cell_type": "code",
   "execution_count": 8,
   "metadata": {},
   "outputs": [
    {
     "name": "stdout",
     "output_type": "stream",
     "text": [
      "WARNING:tensorflow:From /home/ec2-user/anaconda3/envs/tensorflow_p36/lib/python3.6/site-packages/tensorflow/python/ops/math_ops.py:3066: to_int32 (from tensorflow.python.ops.math_ops) is deprecated and will be removed in a future version.\n",
      "Instructions for updating:\n",
      "Use tf.cast instead.\n",
      "Epoch 1/5\n",
      "3750/3750 [==============================] - 368s 98ms/step - loss: 0.0757 - categorical_accuracy: 0.9319 - val_loss: 0.0248 - val_categorical_accuracy: 0.9836\n",
      "Epoch 2/5\n",
      "3750/3750 [==============================] - 342s 91ms/step - loss: 0.0248 - categorical_accuracy: 0.9822 - val_loss: 0.0146 - val_categorical_accuracy: 0.9895\n",
      "Epoch 3/5\n",
      "3750/3750 [==============================] - 342s 91ms/step - loss: 0.0179 - categorical_accuracy: 0.9871 - val_loss: 0.0139 - val_categorical_accuracy: 0.9908\n",
      "Epoch 4/5\n",
      "3750/3750 [==============================] - 341s 91ms/step - loss: 0.0145 - categorical_accuracy: 0.9897 - val_loss: 0.0100 - val_categorical_accuracy: 0.9931\n",
      "Epoch 5/5\n",
      "3750/3750 [==============================] - 342s 91ms/step - loss: 0.0124 - categorical_accuracy: 0.9910 - val_loss: 0.0093 - val_categorical_accuracy: 0.9939\n"
     ]
    }
   ],
   "source": [
    "hist = model.fit_generator(trainGenerator,\n",
    "                           steps_per_epoch=trainGenerator.n // trainGenerator.batch_size,\n",
    "                           epochs=5,\n",
    "                           validation_data=testGenerator,\n",
    "                           validation_steps=testGenerator.n // testGenerator.batch_size,\n",
    "                           workers=4,\n",
    "                           verbose=1)"
   ]
  },
  {
   "cell_type": "code",
   "execution_count": 9,
   "metadata": {},
   "outputs": [
    {
     "data": {
      "image/png": "[encoded data removed]",
      "text/plain": [
       "<Figure size 1440x288 with 2 Axes>"
      ]
     },
     "metadata": {},
     "output_type": "display_data"
    }
   ],
   "source": [
    "plotHistory(hist.history)\n",
    "plt.savefig('mnist.png')"
   ]
  }
 ],
 "metadata": {
  "kernelspec": {
   "display_name": "conda_tensorflow_p36",
   "language": "python",
   "name": "conda_tensorflow_p36"
  },
  "language_info": {
   "codemirror_mode": {
    "name": "ipython",
    "version": 3
   },
   "file_extension": ".py",
   "mimetype": "text/x-python",
   "name": "python",
   "nbconvert_exporter": "python",
   "pygments_lexer": "ipython3",
   "version": "3.6.5"
  }
 },
 "nbformat": 4,
 "nbformat_minor": 2
}
