{
 "cells": [
  {
   "cell_type": "code",
   "execution_count": 9,
   "metadata": {},
   "outputs": [],
   "source": [
    "import numpy as np\n",
    "import seaborn as sns\n",
    "from keras.models import Model, Sequential\n",
    "from keras.layers.convolutional import Convolution2D\n",
    "from keras.layers.core import Dense, Reshape, Dropout, Activation\n",
    "from keras.layers import Input, BatchNormalization\n",
    "from keras.losses import mean_squared_error, categorical_crossentropy\n",
    "from keras.optimizers import Adam\n",
    "from keras.utils import plot_model, multi_gpu_model\n",
    "\n",
    "from utils import LossHistory, plotHistory, visualization_train, visualization_data, rotation_accuracy\n",
    "from keras_capsnet.layer.capsnet import PrimaryCaps, Caps, ClassesCaps, Mask\n",
    "from keras_capsnet.losses import margin\n",
    "from keras_capsnet.activations import squash\n",
    "from datasets.mnist import dataGenerator"
   ]
  },
  {
   "cell_type": "code",
   "execution_count": 2,
   "metadata": {},
   "outputs": [],
   "source": [
    "# Plotting for dark theme\n",
    "sns.set(context='paper', style='darkgrid', rc={'figure.facecolor':'white'}, font_scale=1.2)"
   ]
  },
  {
   "cell_type": "markdown",
   "metadata": {},
   "source": [
    "# Parameters"
   ]
  },
  {
   "cell_type": "code",
   "execution_count": 10,
   "metadata": {},
   "outputs": [],
   "source": [
    "num_gpu = 8\n",
    "num_class = 10\n",
    "input_shape = (28, 28, 1)\n",
    "m_train = 60000\n",
    "m_test = 10000\n",
    "\n",
    "batch_size = num_gpu*16\n",
    "\n",
    "data_augmentation = {\n",
    "    'width_shift_range': 2,\n",
    "    'height_shift_range': 2\n",
    "}"
   ]
  },
  {
   "cell_type": "markdown",
   "metadata": {},
   "source": [
    "# Dataset"
   ]
  },
  {
   "cell_type": "code",
   "execution_count": 11,
   "metadata": {},
   "outputs": [
    {
     "name": "stdout",
     "output_type": "stream",
     "text": [
      "Downloading data from https://s3.amazonaws.com/img-datasets/mnist.npz\n",
      "11493376/11490434 [==============================] - 0s 0us/step\n"
     ]
    }
   ],
   "source": [
    "trainGenerator = dataGenerator('train', batch_size=batch_size, reshape=False, **data_augmentation)\n",
    "testGenerator = dataGenerator('test', batch_size=batch_size, reshape=False)"
   ]
  },
  {
   "cell_type": "markdown",
   "metadata": {},
   "source": [
    "# Model"
   ]
  },
  {
   "cell_type": "code",
   "execution_count": 12,
   "metadata": {},
   "outputs": [],
   "source": [
    "model = Sequential([\n",
    "    Convolution2D(filters=256, kernel_size=(9, 9), strides=1, padding='valid', activation='relu', input_shape=input_shape),\n",
    "    PrimaryCaps(capsules=32, capsule_dim=8, kernel_size=(9, 9), strides=2, padding=\"valid\", activation_caps=squash),\n",
    "    Caps(capsules=num_class, capsule_dim=16, routings=3, activation_caps=squash),\n",
    "    ClassesCaps(name='capsule'),\n",
    "])"
   ]
  },
  {
   "cell_type": "code",
   "execution_count": 13,
   "metadata": {},
   "outputs": [
    {
     "name": "stdout",
     "output_type": "stream",
     "text": [
      "_________________________________________________________________\n",
      "Layer (type)                 Output Shape              Param #   \n",
      "=================================================================\n",
      "conv2d_2 (Conv2D)            (None, 20, 20, 256)       20992     \n",
      "_________________________________________________________________\n",
      "primary_caps_2 (PrimaryCaps) (None, 1152, 8)           5308672   \n",
      "_________________________________________________________________\n",
      "caps_2 (Caps)                (None, 10, 16)            1474560   \n",
      "_________________________________________________________________\n",
      "capsule (ClassesCaps)        (None, 10)                0         \n",
      "=================================================================\n",
      "Total params: 6,804,224\n",
      "Trainable params: 6,804,224\n",
      "Non-trainable params: 0\n",
      "_________________________________________________________________\n"
     ]
    }
   ],
   "source": [
    "model.summary()"
   ]
  },
  {
   "cell_type": "markdown",
   "metadata": {},
   "source": [
    "# Training"
   ]
  },
  {
   "cell_type": "code",
   "execution_count": 14,
   "metadata": {},
   "outputs": [],
   "source": [
    "model = multi_gpu_model(model, gpus=num_gpu)\n",
    "model.compile(optimizer=Adam(lr=1e-3),\n",
    "              loss=margin(),\n",
    "              metrics={'capsule': 'categorical_accuracy'})"
   ]
  },
  {
   "cell_type": "code",
   "execution_count": 15,
   "metadata": {},
   "outputs": [
    {
     "name": "stdout",
     "output_type": "stream",
     "text": [
      "Epoch 1/10\n",
      "468/468 [==============================] - 38s 81ms/step - loss: 0.0903 - categorical_accuracy: 0.9114 - val_loss: 0.0222 - val_categorical_accuracy: 0.9871\n",
      "Epoch 2/10\n",
      "468/468 [==============================] - 34s 72ms/step - loss: 0.0212 - categorical_accuracy: 0.9849 - val_loss: 0.0136 - val_categorical_accuracy: 0.9916\n",
      "Epoch 3/10\n",
      "468/468 [==============================] - 34s 72ms/step - loss: 0.0153 - categorical_accuracy: 0.9895 - val_loss: 0.0117 - val_categorical_accuracy: 0.9922\n",
      "Epoch 4/10\n",
      "468/468 [==============================] - 34s 72ms/step - loss: 0.0129 - categorical_accuracy: 0.9914 - val_loss: 0.0093 - val_categorical_accuracy: 0.9936\n",
      "Epoch 5/10\n",
      "468/468 [==============================] - 34s 72ms/step - loss: 0.0107 - categorical_accuracy: 0.9931 - val_loss: 0.0107 - val_categorical_accuracy: 0.9930\n",
      "Epoch 6/10\n",
      "468/468 [==============================] - 34s 72ms/step - loss: 0.0099 - categorical_accuracy: 0.9936 - val_loss: 0.0087 - val_categorical_accuracy: 0.9934\n",
      "Epoch 7/10\n",
      "468/468 [==============================] - 34s 72ms/step - loss: 0.0085 - categorical_accuracy: 0.9949 - val_loss: 0.0093 - val_categorical_accuracy: 0.9949\n",
      "Epoch 8/10\n",
      "468/468 [==============================] - 34s 72ms/step - loss: 0.0080 - categorical_accuracy: 0.9950 - val_loss: 0.0078 - val_categorical_accuracy: 0.9944\n",
      "Epoch 9/10\n",
      "468/468 [==============================] - 34s 72ms/step - loss: 0.0074 - categorical_accuracy: 0.9956 - val_loss: 0.0072 - val_categorical_accuracy: 0.9954\n",
      "Epoch 10/10\n",
      "468/468 [==============================] - 34s 72ms/step - loss: 0.0068 - categorical_accuracy: 0.9959 - val_loss: 0.0079 - val_categorical_accuracy: 0.9947\n"
     ]
    }
   ],
   "source": [
    "hist = model.fit_generator(trainGenerator,\n",
    "                           steps_per_epoch=trainGenerator.n // trainGenerator.batch_size,\n",
    "                           epochs=10,\n",
    "                           validation_data=testGenerator,\n",
    "                           validation_steps=testGenerator.n // testGenerator.batch_size,\n",
    "                           verbose=1)"
   ]
  },
  {
   "cell_type": "code",
   "execution_count": 16,
   "metadata": {},
   "outputs": [
    {
     "data": {
      "image/png": "[encoded data removed]",
      "text/plain": [
       "<Figure size 1440x288 with 2 Axes>"
      ]
     },
     "metadata": {},
     "output_type": "display_data"
    }
   ],
   "source": [
    "plotHistory(hist.history)"
   ]
  }
 ],
 "metadata": {
  "kernelspec": {
   "display_name": "conda_tensorflow_p36",
   "language": "python",
   "name": "conda_tensorflow_p36"
  },
  "language_info": {
   "codemirror_mode": {
    "name": "ipython",
    "version": 3
   },
   "file_extension": ".py",
   "mimetype": "text/x-python",
   "name": "python",
   "nbconvert_exporter": "python",
   "pygments_lexer": "ipython3",
   "version": "3.6.5"
  }
 },
 "nbformat": 4,
 "nbformat_minor": 2
}
