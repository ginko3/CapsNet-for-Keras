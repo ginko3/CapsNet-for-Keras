{
 "cells": [
  {
   "cell_type": "code",
   "execution_count": 1,
   "metadata": {},
   "outputs": [
    {
     "name": "stderr",
     "output_type": "stream",
     "text": [
      "Using TensorFlow backend.\n"
     ]
    }
   ],
   "source": [
    "import numpy as np\n",
    "from keras.models import Sequential\n",
    "from keras.layers.convolutional import Convolution2D, MaxPooling2D\n",
    "from keras.layers.core import Dense, Reshape, Activation, Flatten\n",
    "from keras.layers import Input, BatchNormalization, Dropout\n",
    "from keras.losses import categorical_crossentropy\n",
    "from keras.optimizers import Adam, SGD\n",
    "\n",
    "from utils import LossHistory, plotHistory, visualization_data\n",
    "from datasets.fashion_mnist import dataGenerator\n",
    "from keras_lropt.callbacks import LRFinderAuto as LRFinder"
   ]
  },
  {
   "cell_type": "markdown",
   "metadata": {},
   "source": [
    "# Parameters"
   ]
  },
  {
   "cell_type": "code",
   "execution_count": 2,
   "metadata": {},
   "outputs": [],
   "source": [
    "num_class = 10\n",
    "input_shape = (28, 28, 1)\n",
    "\n",
    "batch_size = 32\n",
    "\n",
    "data_augmentation = {\n",
    "    'width_shift_range': 2,\n",
    "    'height_shift_range': 2\n",
    "}"
   ]
  },
  {
   "cell_type": "markdown",
   "metadata": {},
   "source": [
    "# Dataset"
   ]
  },
  {
   "cell_type": "code",
   "execution_count": 3,
   "metadata": {},
   "outputs": [],
   "source": [
    "trainGenerator = dataGenerator('train', batch_size=batch_size, reshape=False, **data_augmentation)\n",
    "testGenerator = dataGenerator('test', batch_size=batch_size, reshape=False)"
   ]
  },
  {
   "cell_type": "markdown",
   "metadata": {},
   "source": [
    "# Model"
   ]
  },
  {
   "cell_type": "code",
   "execution_count": 4,
   "metadata": {},
   "outputs": [],
   "source": [
    "model = Sequential([\n",
    "    Convolution2D(filters=256, kernel_size=(7, 7), padding='same', input_shape=input_shape),\n",
    "    MaxPooling2D(),\n",
    "    BatchNormalization(),\n",
    "    Activation('relu'),\n",
    "    \n",
    "    Convolution2D(filters=512, kernel_size=(3, 3), padding='same'),\n",
    "    MaxPooling2D(),\n",
    "    BatchNormalization(),\n",
    "    Activation('relu'),\n",
    "    \n",
    "    Flatten(),\n",
    "    Dropout(0.2),\n",
    "    Dense(10, activation='softmax')\n",
    "])"
   ]
  },
  {
   "cell_type": "code",
   "execution_count": 5,
   "metadata": {},
   "outputs": [
    {
     "name": "stdout",
     "output_type": "stream",
     "text": [
      "_________________________________________________________________\n",
      "Layer (type)                 Output Shape              Param #   \n",
      "=================================================================\n",
      "conv2d_1 (Conv2D)            (None, 28, 28, 256)       12800     \n",
      "_________________________________________________________________\n",
      "max_pooling2d_1 (MaxPooling2 (None, 14, 14, 256)       0         \n",
      "_________________________________________________________________\n",
      "batch_normalization_1 (Batch (None, 14, 14, 256)       1024      \n",
      "_________________________________________________________________\n",
      "activation_1 (Activation)    (None, 14, 14, 256)       0         \n",
      "_________________________________________________________________\n",
      "conv2d_2 (Conv2D)            (None, 14, 14, 512)       1180160   \n",
      "_________________________________________________________________\n",
      "max_pooling2d_2 (MaxPooling2 (None, 7, 7, 512)         0         \n",
      "_________________________________________________________________\n",
      "batch_normalization_2 (Batch (None, 7, 7, 512)         2048      \n",
      "_________________________________________________________________\n",
      "activation_2 (Activation)    (None, 7, 7, 512)         0         \n",
      "_________________________________________________________________\n",
      "flatten_1 (Flatten)          (None, 25088)             0         \n",
      "_________________________________________________________________\n",
      "dropout_1 (Dropout)          (None, 25088)             0         \n",
      "_________________________________________________________________\n",
      "dense_1 (Dense)              (None, 10)                250890    \n",
      "=================================================================\n",
      "Total params: 1,446,922\n",
      "Trainable params: 1,445,386\n",
      "Non-trainable params: 1,536\n",
      "_________________________________________________________________\n"
     ]
    }
   ],
   "source": [
    "model.summary()"
   ]
  },
  {
   "cell_type": "markdown",
   "metadata": {},
   "source": [
    "# Training"
   ]
  },
  {
   "cell_type": "code",
   "execution_count": 6,
   "metadata": {},
   "outputs": [],
   "source": [
    "model.compile(optimizer=Adam(lr=1e-4), loss=categorical_crossentropy, metrics=['accuracy'])"
   ]
  },
  {
   "cell_type": "code",
   "execution_count": 7,
   "metadata": {},
   "outputs": [],
   "source": [
    "history = LossHistory(metrics=('loss', 'acc'))"
   ]
  },
  {
   "cell_type": "code",
   "execution_count": 8,
   "metadata": {},
   "outputs": [
    {
     "name": "stdout",
     "output_type": "stream",
     "text": [
      "Epoch 1/10\n",
      " - 47s - loss: 0.4582 - acc: 0.8405 - val_loss: 0.3978 - val_acc: 0.8676\n",
      "Epoch 2/10\n",
      " - 46s - loss: 0.3395 - acc: 0.8819 - val_loss: 0.3302 - val_acc: 0.8804\n",
      "Epoch 3/10\n",
      " - 45s - loss: 0.3063 - acc: 0.8919 - val_loss: 0.3100 - val_acc: 0.8906\n",
      "Epoch 4/10\n",
      " - 46s - loss: 0.2799 - acc: 0.9003 - val_loss: 0.2987 - val_acc: 0.9008\n",
      "Epoch 5/10\n",
      " - 46s - loss: 0.2620 - acc: 0.9062 - val_loss: 0.3032 - val_acc: 0.9008\n",
      "Epoch 6/10\n",
      " - 46s - loss: 0.2464 - acc: 0.9128 - val_loss: 0.2954 - val_acc: 0.9028\n",
      "Epoch 7/10\n",
      " - 45s - loss: 0.2327 - acc: 0.9171 - val_loss: 0.2659 - val_acc: 0.9098\n",
      "Epoch 8/10\n",
      " - 45s - loss: 0.2221 - acc: 0.9205 - val_loss: 0.2509 - val_acc: 0.9136\n",
      "Epoch 9/10\n",
      " - 45s - loss: 0.2165 - acc: 0.9221 - val_loss: 0.2545 - val_acc: 0.9167\n",
      "Epoch 10/10\n",
      " - 46s - loss: 0.2036 - acc: 0.9270 - val_loss: 0.2544 - val_acc: 0.9134\n"
     ]
    }
   ],
   "source": [
    "hist = model.fit_generator(trainGenerator,\n",
    "                                    steps_per_epoch=60000 // batch_size,\n",
    "                                    epochs=10,\n",
    "                                    validation_data=testGenerator,\n",
    "                                    validation_steps=10000 // batch_size,\n",
    "                                    verbose=2,\n",
    "                                    callbacks=[history])"
   ]
  },
  {
   "cell_type": "code",
   "execution_count": 9,
   "metadata": {},
   "outputs": [
    {
     "data": {
      "image/png": "[encoded data removed]",
      "text/plain": [
       "<Figure size 1440x288 with 2 Axes>"
      ]
     },
     "metadata": {},
     "output_type": "display_data"
    }
   ],
   "source": [
    "plotHistory(history.metrics)"
   ]
  },
  {
   "cell_type": "markdown",
   "metadata": {},
   "source": [
    "# Evaluation on augmented data"
   ]
  },
  {
   "cell_type": "markdown",
   "metadata": {},
   "source": [
    "## Accuracy"
   ]
  },
  {
   "cell_type": "code",
   "execution_count": 10,
   "metadata": {},
   "outputs": [],
   "source": [
    "data_augmentation = {\n",
    "    'rotation_range': 30\n",
    "}\n",
    "\n",
    "# Select data\n",
    "testGenerator = dataGenerator('test', batch_size=batch_size, reshape=False, **data_augmentation)"
   ]
  },
  {
   "cell_type": "code",
   "execution_count": 11,
   "metadata": {},
   "outputs": [
    {
     "name": "stdout",
     "output_type": "stream",
     "text": [
      "Test acc: 0.631 (augmented data)\n"
     ]
    }
   ],
   "source": [
    "test_acc = model.evaluate_generator(testGenerator, steps=10000/32)[1]\n",
    "print(f'Test acc: {round(test_acc, 3)} (augmented data)')"
   ]
  },
  {
   "cell_type": "markdown",
   "metadata": {},
   "source": [
    "## Visualization"
   ]
  },
  {
   "cell_type": "code",
   "execution_count": 12,
   "metadata": {},
   "outputs": [
    {
     "data": {
      "image/png": "[encoded data removed]",
      "text/plain": [
       "<Figure size 1440x720 with 5 Axes>"
      ]
     },
     "metadata": {},
     "output_type": "display_data"
    }
   ],
   "source": [
    "n_image=5\n",
    "\n",
    "# Select data\n",
    "testGenerator = dataGenerator('test', batch_size=n_image, reshape=False, **data_augmentation)\n",
    "images, labels = next(testGenerator)\n",
    "\n",
    "# Run inference\n",
    "predictions = model.predict(images)\n",
    "\n",
    "# Post-process data\n",
    "labels = np.argmax(labels, axis=1)\n",
    "predictions = np.argmax(predictions, axis=1)\n",
    "images = images.reshape((-1, 28, 28))\n",
    "\n",
    "visualization_data(images, labels, predictions)"
   ]
  }
 ],
 "metadata": {
  "kernelspec": {
   "display_name": "conda_tensorflow_p36",
   "language": "python",
   "name": "conda_tensorflow_p36"
  },
  "language_info": {
   "codemirror_mode": {
    "name": "ipython",
    "version": 3
   },
   "file_extension": ".py",
   "mimetype": "text/x-python",
   "name": "python",
   "nbconvert_exporter": "python",
   "pygments_lexer": "ipython3",
   "version": "3.6.5"
  }
 },
 "nbformat": 4,
 "nbformat_minor": 2
}
